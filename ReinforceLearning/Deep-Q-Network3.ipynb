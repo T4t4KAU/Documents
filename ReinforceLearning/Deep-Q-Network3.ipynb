{
 "cells": [
  {
   "cell_type": "code",
   "execution_count": null,
   "metadata": {
    "collapsed": true
   },
   "outputs": [],
   "source": [
    "import numpy as np\n",
    "import torch\n",
    "from Gridworld import Gridworld\n",
    "import random\n",
    "from matplotlib import pylab as plt\n",
    "from IPython.display import clear_output\n",
    "\n",
    "import copy"
   ]
  },
  {
   "cell_type": "code",
   "execution_count": null,
   "outputs": [],
   "source": [
    "model = torch.nn.Sequential(\n",
    "    torch.nn.Linear(64,150),\n",
    "    torch.nn.ReLU(),\n",
    "    torch.nn.Linear(150,100),\n",
    "    torch.nn.ReLU(),\n",
    "    torch.nn.Linear(100,4)\n",
    ")\n",
    "\n",
    "# 复制原始Q网络 创建\n",
    "model2 = copy.deepcopy(model)\n",
    "\n",
    "# 加载\n",
    "model2.load_state_dict(model.state_dict())\n",
    "\n",
    "loss_fn = torch.nn.MSELoss()\n",
    "learning_rate = 1e-3\n",
    "optimizer = torch.optim.Adam(model.parameters(),lr=learning_rate)\n",
    "\n",
    "gamma = 0.9\n",
    "epsilon = 0.3"
   ],
   "metadata": {
    "collapsed": false
   }
  },
  {
   "cell_type": "code",
   "execution_count": null,
   "outputs": [],
   "source": [
    "action_set = {\n",
    "    0: 'u',\n",
    "    1: 'd',\n",
    "    2: 'l',\n",
    "    3: 'r',\n",
    "}"
   ],
   "metadata": {
    "collapsed": false
   }
  },
  {
   "cell_type": "code",
   "execution_count": null,
   "outputs": [],
   "source": [
    "from collections import deque\n",
    "import sys\n",
    "\n",
    "epoches = 5000\n",
    "losses = []\n",
    "mem_size = 1000  # 经验缓冲区大小\n",
    "batch_size = 200  # 单次批量大小\n",
    "relay = deque(maxlen=mem_size)  # 经验缓存\n",
    "max_moves = 50\n",
    "h = 0\n",
    "sync_freq = 500  # 网络更新频率\n",
    "j = 0\n",
    "\n",
    "for i in range(epoches):\n",
    "    game = Gridworld(size=4,mode='random')  # 创建游戏环境\n",
    "    state1_ = game.board.render_np().reshape(1,64) + np.random.rand(1,64)/100.0\n",
    "    state1 = torch.from_numpy(state1_).float()\n",
    "    status = 1\n",
    "    mov = 0\n",
    "    print(i)\n",
    "\n",
    "    while status == 1:\n",
    "        j += 1\n",
    "        mov += 1\n",
    "        qval = model(state1)\n",
    "        qval_ = qval.data.numpy()\n",
    "\n",
    "        if random.random() < epsilon:\n",
    "            action_ = np.random.randint(0,4)\n",
    "        else:\n",
    "            action_ = np.argmax(qval_)\n",
    "\n",
    "        action = action_set[action_]\n",
    "        game.makeMove(action)\n",
    "        state2_ = game.board.render_np().reshape(1,64) + np.random.rand(1,64)/100.0\n",
    "        state2 = torch.from_numpy(state2_).float()\n",
    "        reward = game.reward()\n",
    "        done = True if reward > 0 else False\n",
    "        exp = (state1,action_,reward,state2,done)\n",
    "        relay.append(exp)\n",
    "        state1 = state2\n",
    "\n",
    "        if len(relay) > batch_size:\n",
    "            mini_batch = random.sample(relay,batch_size)\n",
    "            state1_batch = torch.cat([s1 for (s1,a,r,s2,d) in mini_batch])\n",
    "            action_batch = torch.Tensor([a for (s1,a,r,s2,d) in mini_batch])\n",
    "            reward_batch = torch.Tensor([r for (s1,a,r,s2,d) in mini_batch])\n",
    "            state2_batch = torch.cat([s2 for (s1,a,r,s2,d) in mini_batch])\n",
    "            done_batch = torch.Tensor([d for (s1,a,r,s2,d) in mini_batch])\n",
    "            Q1 = model(state1_batch)\n",
    "            with torch.no_grad():\n",
    "                Q2 = model2(state2_batch)\n",
    "\n",
    "            # 使用目标网络获得下一状态的最大Q值\n",
    "            Y = reward_batch + gamma * ((1-done_batch) * torch.max(Q2,dim=1)[0])\n",
    "            X = Q1.gather(dim=1,index=action_batch.long().unsqueeze(dim=1)).squeeze()\n",
    "            loss = loss_fn(X,Y.detach())\n",
    "\n",
    "            optimizer.zero_grad()\n",
    "            loss.backward()\n",
    "            losses.append(loss.item())\n",
    "            optimizer.step()\n",
    "\n",
    "            # 主模型参数复制到目标网络\n",
    "            if j % sync_freq == 0:\n",
    "                model2.load_state_dict(model.state_dict())\n",
    "\n",
    "    if reward != -1 or mov > max_moves:\n",
    "        status = 0\n",
    "        mov = 0\n",
    "\n",
    "losses = np.array(losses)"
   ],
   "metadata": {
    "collapsed": false
   }
  },
  {
   "cell_type": "code",
   "execution_count": null,
   "outputs": [],
   "source": [
    "plt.figure(figsize=(10,7))\n",
    "plt.plot(losses)\n",
    "plt.xlabel(\"Epochs\",fontsize=22)\n",
    "plt.ylabel(\"Loss\",fontsize=22)"
   ],
   "metadata": {
    "collapsed": false
   }
  },
  {
   "cell_type": "code",
   "execution_count": null,
   "outputs": [],
   "source": [
    "max_games = 1000\n",
    "wins = 0\n",
    "for i in range(max_games):\n",
    "    win = test_model(model, mode='random', display=False)\n",
    "    if win:\n",
    "        wins += 1\n",
    "win_perc = float(wins) / float(max_games)\n",
    "print(\"Games played: {0}, # of wins: {1}\".format(max_games,wins))\n",
    "print(\"Win percentage: {}%\".format(100.0*win_perc))"
   ],
   "metadata": {
    "collapsed": false
   }
  }
 ],
 "metadata": {
  "kernelspec": {
   "display_name": "Python 3",
   "language": "python",
   "name": "python3"
  },
  "language_info": {
   "codemirror_mode": {
    "name": "ipython",
    "version": 2
   },
   "file_extension": ".py",
   "mimetype": "text/x-python",
   "name": "python",
   "nbconvert_exporter": "python",
   "pygments_lexer": "ipython2",
   "version": "2.7.6"
  }
 },
 "nbformat": 4,
 "nbformat_minor": 0
}
